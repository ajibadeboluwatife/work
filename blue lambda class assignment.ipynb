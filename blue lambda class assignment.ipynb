{
 "cells": [
  {
   "cell_type": "code",
   "execution_count": 142,
   "id": "f5422bc4",
   "metadata": {},
   "outputs": [],
   "source": [
    "x = 'my-name-is-bukola-and-i-am-from-nigeria/-but-my-dad-/is-from-is-from-ekiti'"
   ]
  },
  {
   "cell_type": "code",
   "execution_count": 143,
   "id": "c9175c01",
   "metadata": {},
   "outputs": [],
   "source": [
    "def clear(x):\n",
    "    x.split()\n",
    "    return print(x.join(''))"
   ]
  },
  {
   "cell_type": "code",
   "execution_count": 144,
   "id": "1ce37f86",
   "metadata": {},
   "outputs": [
    {
     "name": "stdout",
     "output_type": "stream",
     "text": [
      "\n"
     ]
    }
   ],
   "source": [
    "clear(x)"
   ]
  },
  {
   "cell_type": "code",
   "execution_count": 138,
   "id": "f3b4b04b",
   "metadata": {},
   "outputs": [
    {
     "data": {
      "text/plain": [
       "['my-name-is-bukola-and-i-am-from-nigeria/-but-my-dad-/is-from-is-from-ekiti']"
      ]
     },
     "execution_count": 138,
     "metadata": {},
     "output_type": "execute_result"
    }
   ],
   "source": [
    "x.split()"
   ]
  },
  {
   "cell_type": "code",
   "execution_count": 145,
   "id": "d032c899",
   "metadata": {},
   "outputs": [],
   "source": [
    "sentence = 'my-name-is-bukola-and-i-am-from-nigeria/-but-my-dad-/is-from-is-from-ekiti'"
   ]
  },
  {
   "cell_type": "code",
   "execution_count": 146,
   "id": "e93526fc",
   "metadata": {},
   "outputs": [],
   "source": [
    "sentence = sentence.replace('-', ' ')"
   ]
  },
  {
   "cell_type": "code",
   "execution_count": 147,
   "id": "ccbdac45",
   "metadata": {},
   "outputs": [
    {
     "data": {
      "text/plain": [
       "'my name is bukola and i am from nigeria/ but my dad /is from is from ekiti'"
      ]
     },
     "execution_count": 147,
     "metadata": {},
     "output_type": "execute_result"
    }
   ],
   "source": [
    "sentence"
   ]
  },
  {
   "cell_type": "code",
   "execution_count": 148,
   "id": "de57c603",
   "metadata": {},
   "outputs": [],
   "source": [
    "sentence = sentence.replace('/', '')"
   ]
  },
  {
   "cell_type": "code",
   "execution_count": 149,
   "id": "46f19803",
   "metadata": {},
   "outputs": [
    {
     "data": {
      "text/plain": [
       "'my name is bukola and i am from nigeria but my dad is from is from ekiti'"
      ]
     },
     "execution_count": 149,
     "metadata": {},
     "output_type": "execute_result"
    }
   ],
   "source": [
    "sentence"
   ]
  },
  {
   "cell_type": "code",
   "execution_count": 150,
   "id": "79f19495",
   "metadata": {},
   "outputs": [
    {
     "data": {
      "text/plain": [
       "'My Name Is Bukola And I Am From Nigeria But My Dad Is From Is From Ekiti'"
      ]
     },
     "execution_count": 150,
     "metadata": {},
     "output_type": "execute_result"
    }
   ],
   "source": [
    "sentence.title()"
   ]
  },
  {
   "cell_type": "code",
   "execution_count": 151,
   "id": "4775f280",
   "metadata": {},
   "outputs": [],
   "source": [
    "def Clean(sentence):\n",
    "    sentence = sentence.replace('-', ' ')\n",
    "    sentence = sentence.replace('/', '')\n",
    "    return sentence.title()"
   ]
  },
  {
   "cell_type": "code",
   "execution_count": 152,
   "id": "040baa94",
   "metadata": {},
   "outputs": [
    {
     "data": {
      "text/plain": [
       "'My Name Is Bukola And I Am From Nigeria But My Dad Is From Is From Ekiti'"
      ]
     },
     "execution_count": 152,
     "metadata": {},
     "output_type": "execute_result"
    }
   ],
   "source": [
    "Clean('my-name-is-bukola-and-i-am-from-nigeria/-but-my-dad-/is-from-is-from-ekiti')"
   ]
  },
  {
   "cell_type": "code",
   "execution_count": 171,
   "id": "71b20cb8",
   "metadata": {},
   "outputs": [],
   "source": [
    "trying = 'my-name-is-bukola-and-i-am-from-nigeria/-but-my-dad-/is-from-is-from-ekiti'"
   ]
  },
  {
   "cell_type": "code",
   "execution_count": 178,
   "id": "3697ffaf",
   "metadata": {},
   "outputs": [],
   "source": [
    "trying = 'my-name-is-bukola-and-i-am-from-nigeria/-but-my-dad-/is-from-is-from-ekiti'\n",
    "trying = ''.join(' '.join(trying.split('-')).split('/')).title()"
   ]
  },
  {
   "cell_type": "code",
   "execution_count": 179,
   "id": "94e92bb0",
   "metadata": {},
   "outputs": [
    {
     "data": {
      "text/plain": [
       "'My Name Is Bukola And I Am From Nigeria But My Dad Is From Is From Ekiti'"
      ]
     },
     "execution_count": 179,
     "metadata": {},
     "output_type": "execute_result"
    }
   ],
   "source": [
    "trying"
   ]
  },
  {
   "cell_type": "code",
   "execution_count": 164,
   "id": "99d5f13e",
   "metadata": {},
   "outputs": [
    {
     "name": "stdout",
     "output_type": "stream",
     "text": [
      "['my-name-is-bukola-and-i-am-from-nigeria/-but-my-dad-/is-from-is-from-ekiti']\n"
     ]
    }
   ],
   "source": [
    "print(trying)"
   ]
  },
  {
   "cell_type": "code",
   "execution_count": null,
   "id": "e607bef4",
   "metadata": {},
   "outputs": [],
   "source": []
  }
 ],
 "metadata": {
  "kernelspec": {
   "display_name": "Python 3",
   "language": "python",
   "name": "python3"
  },
  "language_info": {
   "codemirror_mode": {
    "name": "ipython",
    "version": 3
   },
   "file_extension": ".py",
   "mimetype": "text/x-python",
   "name": "python",
   "nbconvert_exporter": "python",
   "pygments_lexer": "ipython3",
   "version": "3.8.8"
  }
 },
 "nbformat": 4,
 "nbformat_minor": 5
}
