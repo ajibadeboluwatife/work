{
 "cells": [
  {
   "cell_type": "code",
   "execution_count": 3,
   "id": "6981cbf9",
   "metadata": {},
   "outputs": [
    {
     "data": {
      "text/plain": [
       "'assignment: [3, 5, 10, 30, 23, 7, 18, 19, 11],\\n    multiply\\n4 * any number less than 10\\n5 * any number less than 20\\n6 multiply by rest\\n'"
      ]
     },
     "execution_count": 3,
     "metadata": {},
     "output_type": "execute_result"
    }
   ],
   "source": [
    " '''assignment: [3, 5, 10, 30, 23, 7, 18, 19, 11],\n",
    "     multiply\n",
    "4 * any number less than 10\n",
    "5 * any number less than 20\n",
    "6 multiply by rest\n",
    "'''"
   ]
  },
  {
   "cell_type": "code",
   "execution_count": 16,
   "id": "538acffe",
   "metadata": {},
   "outputs": [],
   "source": [
    "numbers =  [3, 5, 10, 30, 23, 7, 18, 19, 11]\n",
    "outcome = []\n",
    "outcome2 = []\n",
    "outcome3 = []\n",
    "for num in numbers:\n",
    "    if num < 10:\n",
    "        outcome.append (num * 4)\n",
    "    elif num < 20 :\n",
    "        outcome2.append ( num * 5)\n",
    "    else:\n",
    "        outcome3.append (num * 6)"
   ]
  },
  {
   "cell_type": "code",
   "execution_count": 17,
   "id": "af81ded1",
   "metadata": {},
   "outputs": [
    {
     "data": {
      "text/plain": [
       "[12, 20, 28]"
      ]
     },
     "execution_count": 17,
     "metadata": {},
     "output_type": "execute_result"
    }
   ],
   "source": [
    "outcome"
   ]
  },
  {
   "cell_type": "code",
   "execution_count": 18,
   "id": "e7cc5230",
   "metadata": {},
   "outputs": [
    {
     "data": {
      "text/plain": [
       "[50, 90, 95, 55]"
      ]
     },
     "execution_count": 18,
     "metadata": {},
     "output_type": "execute_result"
    }
   ],
   "source": [
    "outcome2"
   ]
  },
  {
   "cell_type": "markdown",
   "id": "aed5dc10",
   "metadata": {},
   "source": [
    "outcome3"
   ]
  },
  {
   "cell_type": "code",
   "execution_count": 19,
   "id": "34d7ff71",
   "metadata": {},
   "outputs": [
    {
     "data": {
      "text/plain": [
       "[180, 138]"
      ]
     },
     "execution_count": 19,
     "metadata": {},
     "output_type": "execute_result"
    }
   ],
   "source": [
    "outcome3"
   ]
  },
  {
   "cell_type": "code",
   "execution_count": null,
   "id": "ff55ffb8",
   "metadata": {},
   "outputs": [],
   "source": []
  }
 ],
 "metadata": {
  "kernelspec": {
   "display_name": "Python 3",
   "language": "python",
   "name": "python3"
  },
  "language_info": {
   "codemirror_mode": {
    "name": "ipython",
    "version": 3
   },
   "file_extension": ".py",
   "mimetype": "text/x-python",
   "name": "python",
   "nbconvert_exporter": "python",
   "pygments_lexer": "ipython3",
   "version": "3.8.8"
  }
 },
 "nbformat": 4,
 "nbformat_minor": 5
}
