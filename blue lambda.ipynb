{
 "cells": [
  {
   "cell_type": "code",
   "execution_count": 142,
   "id": "608cec75",
   "metadata": {},
   "outputs": [],
   "source": [
    "x = 'my-name-is-bukola-and-i-am-from-nigeria/-but-my-dad-/is-from-is-from-ekiti'"
   ]
  },
  {
   "cell_type": "code",
   "execution_count": 143,
   "id": "47457a3e",
   "metadata": {},
   "outputs": [],
   "source": [
    "def clear(x):\n",
    "    x.split()\n",
    "    return print(x.join(''))"
   ]
  },
  {
   "cell_type": "code",
   "execution_count": 144,
   "id": "5cede860",
   "metadata": {},
   "outputs": [
    {
     "name": "stdout",
     "output_type": "stream",
     "text": [
      "\n"
     ]
    }
   ],
   "source": [
    "clear(x)"
   ]
  },
  {
   "cell_type": "code",
   "execution_count": 138,
   "id": "79a0f3a5",
   "metadata": {},
   "outputs": [
    {
     "data": {
      "text/plain": [
       "['my-name-is-bukola-and-i-am-from-nigeria/-but-my-dad-/is-from-is-from-ekiti']"
      ]
     },
     "execution_count": 138,
     "metadata": {},
     "output_type": "execute_result"
    }
   ],
   "source": [
    "x.split()"
   ]
  },
  {
   "cell_type": "code",
   "execution_count": 145,
   "id": "4e4fcf12",
   "metadata": {},
   "outputs": [],
   "source": [
    "sentence = 'my-name-is-bukola-and-i-am-from-nigeria/-but-my-dad-/is-from-is-from-ekiti'"
   ]
  },
  {
   "cell_type": "code",
   "execution_count": 146,
   "id": "59cb3c79",
   "metadata": {},
   "outputs": [],
   "source": [
    "sentence = sentence.replace('-', ' ')"
   ]
  },
  {
   "cell_type": "code",
   "execution_count": 147,
   "id": "da2820e9",
   "metadata": {},
   "outputs": [
    {
     "data": {
      "text/plain": [
       "'my name is bukola and i am from nigeria/ but my dad /is from is from ekiti'"
      ]
     },
     "execution_count": 147,
     "metadata": {},
     "output_type": "execute_result"
    }
   ],
   "source": [
    "sentence"
   ]
  },
  {
   "cell_type": "code",
   "execution_count": 148,
   "id": "d119b2cb",
   "metadata": {},
   "outputs": [],
   "source": [
    "sentence = sentence.replace('/', '')"
   ]
  },
  {
   "cell_type": "code",
   "execution_count": 149,
   "id": "e97c3794",
   "metadata": {},
   "outputs": [
    {
     "data": {
      "text/plain": [
       "'my name is bukola and i am from nigeria but my dad is from is from ekiti'"
      ]
     },
     "execution_count": 149,
     "metadata": {},
     "output_type": "execute_result"
    }
   ],
   "source": [
    "sentence"
   ]
  },
  {
   "cell_type": "code",
   "execution_count": 150,
   "id": "7d154084",
   "metadata": {},
   "outputs": [
    {
     "data": {
      "text/plain": [
       "'My Name Is Bukola And I Am From Nigeria But My Dad Is From Is From Ekiti'"
      ]
     },
     "execution_count": 150,
     "metadata": {},
     "output_type": "execute_result"
    }
   ],
   "source": [
    "sentence.title()"
   ]
  },
  {
   "cell_type": "code",
   "execution_count": 151,
   "id": "68150bf4",
   "metadata": {},
   "outputs": [],
   "source": [
    "def Clean(sentence):\n",
    "    sentence = sentence.replace('-', ' ')\n",
    "    sentence = sentence.replace('/', '')\n",
    "    return sentence.title()"
   ]
  },
  {
   "cell_type": "code",
   "execution_count": 152,
   "id": "999b6586",
   "metadata": {},
   "outputs": [
    {
     "data": {
      "text/plain": [
       "'My Name Is Bukola And I Am From Nigeria But My Dad Is From Is From Ekiti'"
      ]
     },
     "execution_count": 152,
     "metadata": {},
     "output_type": "execute_result"
    }
   ],
   "source": [
    "Clean('my-name-is-bukola-and-i-am-from-nigeria/-but-my-dad-/is-from-is-from-ekiti')"
   ]
  },
  {
   "cell_type": "code",
   "execution_count": null,
   "id": "09b2640e",
   "metadata": {},
   "outputs": [],
   "source": []
  }
 ],
 "metadata": {
  "kernelspec": {
   "display_name": "Python 3",
   "language": "python",
   "name": "python3"
  },
  "language_info": {
   "codemirror_mode": {
    "name": "ipython",
    "version": 3
   },
   "file_extension": ".py",
   "mimetype": "text/x-python",
   "name": "python",
   "nbconvert_exporter": "python",
   "pygments_lexer": "ipython3",
   "version": "3.8.8"
  }
 },
 "nbformat": 4,
 "nbformat_minor": 5
}
